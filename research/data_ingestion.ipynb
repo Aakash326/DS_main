{
 "cells": [
  {
   "cell_type": "code",
   "execution_count": 1,
   "id": "2fd545ba",
   "metadata": {},
   "outputs": [],
   "source": [
    "import os"
   ]
  },
  {
   "cell_type": "code",
   "execution_count": 13,
   "id": "3b32eec8",
   "metadata": {},
   "outputs": [
    {
     "name": "stdout",
     "output_type": "stream",
     "text": [
      "Project root: /Users/saiaakash/Documents/mlops/DS_main\n",
      "Python path: ['/Users/saiaakash/Documents/mlops/DS_main/src', '/Users/saiaakash/Documents/mlops/src', '/opt/anaconda3/envs/airflow-env/lib/python311.zip', '/opt/anaconda3/envs/airflow-env/lib/python3.11', '/opt/anaconda3/envs/airflow-env/lib/python3.11/lib-dynload', '', '/opt/anaconda3/envs/airflow-env/lib/python3.11/site-packages']\n"
     ]
    }
   ],
   "source": [
    "import os\n",
    "import sys\n",
    "\n",
    "# Get the absolute path to the project root\n",
    "project_root = \"/Users/saiaakash/Documents/mlops/DS_main\"\n",
    "\n",
    "# Add the src directory to the Python path\n",
    "src_path = os.path.join(project_root, \"src\")\n",
    "if src_path not in sys.path:\n",
    "    sys.path.insert(0, src_path)\n",
    "\n",
    "# Print to verify\n",
    "print(f\"Project root: {project_root}\")\n",
    "print(f\"Python path: {sys.path}\")"
   ]
  },
  {
   "cell_type": "code",
   "execution_count": 29,
   "id": "fe619e89",
   "metadata": {},
   "outputs": [
    {
     "data": {
      "text/plain": [
       "'/Users/saiaakash/Documents/mlops/DS_main'"
      ]
     },
     "execution_count": 29,
     "metadata": {},
     "output_type": "execute_result"
    }
   ],
   "source": [
    "# Return to project root\n",
    "os.chdir(\"/Users/saiaakash/Documents/mlops/DS_main\")\n",
    "%pwd  # Verify we're back in the correct directory"
   ]
  },
  {
   "cell_type": "code",
   "execution_count": 4,
   "id": "d73a8867",
   "metadata": {},
   "outputs": [],
   "source": [
    "from dataclasses import dataclass\n",
    "from pathlib import Path\n",
    "\n",
    "@dataclass\n",
    "class DataIngestionConfig:\n",
    "    root_dir: Path\n",
    "    source_url: str\n",
    "    local_data_file: Path\n",
    "    unzip_dir: Path"
   ]
  },
  {
   "cell_type": "code",
   "execution_count": null,
   "id": "2c6aa71a",
   "metadata": {},
   "outputs": [],
   "source": [
    "!pip install joblib python-box ensure"
   ]
  },
  {
   "cell_type": "code",
   "execution_count": 14,
   "id": "7b735c59",
   "metadata": {},
   "outputs": [],
   "source": [
    "from data_science.constants import CONFIG_FILE_PATH, PARAMS_FILE_PATH, SCHEMA_FILE_PATH\n",
    "from data_science.utils.common import read_yaml, create_directories"
   ]
  },
  {
   "cell_type": "code",
   "execution_count": 30,
   "id": "8febb3f9",
   "metadata": {},
   "outputs": [],
   "source": [
    "class ConfigurationManager:\n",
    "    def __init__(self, config_filepath=CONFIG_FILE_PATH, params_filepath=PARAMS_FILE_PATH, schema_filepath=SCHEMA_FILE_PATH):\n",
    "        self.config=read_yaml(config_filepath)\n",
    "        self.params=read_yaml(params_filepath)\n",
    "        self.schema=read_yaml(schema_filepath)\n",
    "        create_directories([self.config.artifacts_root])\n",
    "\n",
    "    def get_data_ingestion_config(self) -> DataIngestionConfig:\n",
    "        config=self.config.data_ingestion\n",
    "        create_directories([config.root_dir])\n",
    "        data_ingestion_config = DataIngestionConfig(\n",
    "            root_dir=config.root_dir,\n",
    "            source_url=config.source_url,  # Changed from config.source.url\n",
    "            local_data_file=config.local_data_file,\n",
    "            unzip_dir=config.unzip_dir\n",
    "        )\n",
    "        return data_ingestion_config\n"
   ]
  },
  {
   "cell_type": "code",
   "execution_count": 31,
   "id": "445adb1e",
   "metadata": {},
   "outputs": [],
   "source": [
    "import os\n",
    "import urllib.request as request\n",
    "from data_science import logger\n",
    "import zipfile\n",
    "from box import ConfigBox"
   ]
  },
  {
   "cell_type": "code",
   "execution_count": 32,
   "id": "4076fc1c",
   "metadata": {},
   "outputs": [],
   "source": [
    "class DataIngestion:\n",
    "    def __init__(self,config:ConfigBox):\n",
    "        self.config = config\n",
    "    #donwloding the zip file\n",
    "    def download_file(self):\n",
    "        if not os.path.exists(self.config.data_source):\n",
    "            file,headers=request.urlretrieve(\n",
    "                url=self.config.source_url,\n",
    "                filename=self.config.data_source\n",
    "            )\n",
    "            logger.info(f\"Downloaded file from {self.config.source_url} to {self.config.data_source}\")\n",
    "        else:\n",
    "            logger.info(f\"File already exists at {self.config.data_source}\")\n",
    "        \n",
    "        #extracting the zip file\n",
    "        def extract_zip_file(self):\n",
    "            unzip_path=self.config.unzip_dir\n",
    "            os.makedirs(unzip_path,exist_ok=True)\n",
    "            with zipfile.ZipFile(self.config.data_source, 'r') as zip_ref:\n",
    "                zip_ref.extractall(unzip_path)\n"
   ]
  },
  {
   "cell_type": "code",
   "execution_count": 34,
   "id": "2c788464",
   "metadata": {},
   "outputs": [
    {
     "name": "stdout",
     "output_type": "stream",
     "text": [
      "[2025-07-28 08:56:38,227: INFO: common]: yaml file: config/config.yaml loaded successfully\n",
      "[2025-07-28 08:56:38,283: INFO: common]: yaml file: params.yaml loaded successfully\n",
      "[2025-07-28 08:56:38,352: INFO: common]: yaml file: schema.yaml loaded successfully\n",
      "[2025-07-28 08:56:38,358: INFO: common]: created directory at: artifacts\n",
      "[2025-07-28 08:56:38,359: INFO: common]: created directory at: artifacts/data_ingestion\n",
      "[2025-07-28 08:56:38,359: ERROR: 1211084895]: Error in data ingestion stage: 'DataIngestionConfig' object has no attribute 'data_source'\n"
     ]
    }
   ],
   "source": [
    "try:\n",
    "    config=ConfigurationManager()\n",
    "    data_ingestion_config=config.get_data_ingestion_config()\n",
    "    data_ingestion=DataIngestion(config=data_ingestion_config)\n",
    "    data_ingestion.download_file()\n",
    "    data_ingestion.extract_zip_file()\n",
    "except Exception as e:\n",
    "    logger.error(f\"Error in data ingestion stage: {e}\")\n",
    "    \n"
   ]
  },
  {
   "cell_type": "code",
   "execution_count": null,
   "id": "0f270901",
   "metadata": {},
   "outputs": [],
   "source": []
  }
 ],
 "metadata": {
  "kernelspec": {
   "display_name": "airflow-env",
   "language": "python",
   "name": "python3"
  },
  "language_info": {
   "codemirror_mode": {
    "name": "ipython",
    "version": 3
   },
   "file_extension": ".py",
   "mimetype": "text/x-python",
   "name": "python",
   "nbconvert_exporter": "python",
   "pygments_lexer": "ipython3",
   "version": "3.11.13"
  }
 },
 "nbformat": 4,
 "nbformat_minor": 5
}
